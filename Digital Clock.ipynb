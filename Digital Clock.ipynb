{
 "cells": [
  {
   "cell_type": "code",
   "execution_count": 4,
   "metadata": {},
   "outputs": [],
   "source": [
    "import time\n",
    "import tkinter as tk\n",
    "from tkinter import *\n",
    "\n",
    "\n",
    "root=Tk()\n",
    "root.geometry(\"500x200+0+0\")\n",
    "root.title(\"Digital Clock\")\n",
    "clock_frame=Label(root,font=('times',100,'bold'),bg='blue',fg='white')\n",
    "clock_frame.pack(fill='both',expand=1)\n",
    "def ticks(time1=\"\"):\n",
    "    # Get the curreent local time from the system\n",
    "    time2= time.strftime('%A\\n%I:%M:%S\\n%D')\n",
    "    # if the time string has changes, update it\n",
    "    if time2 !=time1:\n",
    "        time1=time2\n",
    "        clock_frame.config(text=time2)\n",
    "        # calls itself every 200 milliseconds to update \n",
    "        clock_frame.after(200,ticks)\n",
    "\n",
    "ticks()\n",
    "mainloop()\n"
   ]
  },
  {
   "cell_type": "code",
   "execution_count": null,
   "metadata": {},
   "outputs": [],
   "source": []
  }
 ],
 "metadata": {
  "kernelspec": {
   "display_name": "Python 3",
   "language": "python",
   "name": "python3"
  },
  "language_info": {
   "codemirror_mode": {
    "name": "ipython",
    "version": 3
   },
   "file_extension": ".py",
   "mimetype": "text/x-python",
   "name": "python",
   "nbconvert_exporter": "python",
   "pygments_lexer": "ipython3",
   "version": "3.8.3"
  }
 },
 "nbformat": 4,
 "nbformat_minor": 4
}
